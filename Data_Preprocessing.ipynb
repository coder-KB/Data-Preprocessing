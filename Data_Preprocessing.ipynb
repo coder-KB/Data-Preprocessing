{
  "nbformat": 4,
  "nbformat_minor": 0,
  "metadata": {
    "kernelspec": {
      "display_name": "Python 3",
      "language": "python",
      "name": "python3"
    },
    "language_info": {
      "codemirror_mode": {
        "name": "ipython",
        "version": 3
      },
      "file_extension": ".py",
      "mimetype": "text/x-python",
      "name": "python",
      "nbconvert_exporter": "python",
      "pygments_lexer": "ipython3",
      "version": "3.7.3"
    },
    "colab": {
      "name": "Data Preprocessing.ipynb",
      "provenance": [],
      "include_colab_link": true
    }
  },
  "cells": [
    {
      "cell_type": "markdown",
      "metadata": {
        "id": "view-in-github",
        "colab_type": "text"
      },
      "source": [
        "<a href=\"https://colab.research.google.com/github/coder-KB/Data-Preprocessing/blob/master/Data_Preprocessing.ipynb\" target=\"_parent\"><img src=\"https://colab.research.google.com/assets/colab-badge.svg\" alt=\"Open In Colab\"/></a>"
      ]
    },
    {
      "cell_type": "markdown",
      "metadata": {
        "id": "OelMP011-4hG",
        "colab_type": "text"
      },
      "source": [
        ""
      ]
    },
    {
      "cell_type": "markdown",
      "metadata": {
        "id": "uWr4NUF8-z-m",
        "colab_type": "text"
      },
      "source": [
        "# Importing the Dataset"
      ]
    },
    {
      "cell_type": "code",
      "metadata": {
        "id": "r7FrHYxE-z-q",
        "colab_type": "code",
        "colab": {}
      },
      "source": [
        "#Import library for reading the dataset  \n",
        "import pandas as pd\n",
        "import numpy as np"
      ],
      "execution_count": 0,
      "outputs": []
    },
    {
      "cell_type": "code",
      "metadata": {
        "id": "mAvC1JkA-z-v",
        "colab_type": "code",
        "colab": {}
      },
      "source": [
        "#Import the dataset and store it in a variable named dataset\n",
        "dataset = pd.read_csv('Data.csv')"
      ],
      "execution_count": 0,
      "outputs": []
    },
    {
      "cell_type": "code",
      "metadata": {
        "id": "gcLSe9mI-z-0",
        "colab_type": "code",
        "colab": {
          "base_uri": "https://localhost:8080/",
          "height": 203
        },
        "outputId": "967dd768-8f71-4e6d-db04-ab2a33d04a7d"
      },
      "source": [
        "#Now we peek at the top of the datset. Notice that missing values are stored as NaN.\n",
        "dataset.head()"
      ],
      "execution_count": 3,
      "outputs": [
        {
          "output_type": "execute_result",
          "data": {
            "text/html": [
              "<div>\n",
              "<style scoped>\n",
              "    .dataframe tbody tr th:only-of-type {\n",
              "        vertical-align: middle;\n",
              "    }\n",
              "\n",
              "    .dataframe tbody tr th {\n",
              "        vertical-align: top;\n",
              "    }\n",
              "\n",
              "    .dataframe thead th {\n",
              "        text-align: right;\n",
              "    }\n",
              "</style>\n",
              "<table border=\"1\" class=\"dataframe\">\n",
              "  <thead>\n",
              "    <tr style=\"text-align: right;\">\n",
              "      <th></th>\n",
              "      <th>Country</th>\n",
              "      <th>Age</th>\n",
              "      <th>Salary</th>\n",
              "      <th>Purchased</th>\n",
              "    </tr>\n",
              "  </thead>\n",
              "  <tbody>\n",
              "    <tr>\n",
              "      <th>0</th>\n",
              "      <td>France</td>\n",
              "      <td>44.0</td>\n",
              "      <td>72000.0</td>\n",
              "      <td>No</td>\n",
              "    </tr>\n",
              "    <tr>\n",
              "      <th>1</th>\n",
              "      <td>Spain</td>\n",
              "      <td>27.0</td>\n",
              "      <td>48000.0</td>\n",
              "      <td>Yes</td>\n",
              "    </tr>\n",
              "    <tr>\n",
              "      <th>2</th>\n",
              "      <td>Germany</td>\n",
              "      <td>30.0</td>\n",
              "      <td>54000.0</td>\n",
              "      <td>No</td>\n",
              "    </tr>\n",
              "    <tr>\n",
              "      <th>3</th>\n",
              "      <td>Spain</td>\n",
              "      <td>38.0</td>\n",
              "      <td>61000.0</td>\n",
              "      <td>No</td>\n",
              "    </tr>\n",
              "    <tr>\n",
              "      <th>4</th>\n",
              "      <td>Germany</td>\n",
              "      <td>40.0</td>\n",
              "      <td>NaN</td>\n",
              "      <td>Yes</td>\n",
              "    </tr>\n",
              "  </tbody>\n",
              "</table>\n",
              "</div>"
            ],
            "text/plain": [
              "   Country   Age   Salary Purchased\n",
              "0   France  44.0  72000.0        No\n",
              "1    Spain  27.0  48000.0       Yes\n",
              "2  Germany  30.0  54000.0        No\n",
              "3    Spain  38.0  61000.0        No\n",
              "4  Germany  40.0      NaN       Yes"
            ]
          },
          "metadata": {
            "tags": []
          },
          "execution_count": 3
        }
      ]
    },
    {
      "cell_type": "code",
      "metadata": {
        "id": "7KYv2Cna-z-5",
        "colab_type": "code",
        "colab": {
          "base_uri": "https://localhost:8080/",
          "height": 358
        },
        "outputId": "36f4a677-1145-4e5e-9fc0-44794d7a9ea0"
      },
      "source": [
        "# or else we can print the whole dataset\n",
        "dataset"
      ],
      "execution_count": 4,
      "outputs": [
        {
          "output_type": "execute_result",
          "data": {
            "text/html": [
              "<div>\n",
              "<style scoped>\n",
              "    .dataframe tbody tr th:only-of-type {\n",
              "        vertical-align: middle;\n",
              "    }\n",
              "\n",
              "    .dataframe tbody tr th {\n",
              "        vertical-align: top;\n",
              "    }\n",
              "\n",
              "    .dataframe thead th {\n",
              "        text-align: right;\n",
              "    }\n",
              "</style>\n",
              "<table border=\"1\" class=\"dataframe\">\n",
              "  <thead>\n",
              "    <tr style=\"text-align: right;\">\n",
              "      <th></th>\n",
              "      <th>Country</th>\n",
              "      <th>Age</th>\n",
              "      <th>Salary</th>\n",
              "      <th>Purchased</th>\n",
              "    </tr>\n",
              "  </thead>\n",
              "  <tbody>\n",
              "    <tr>\n",
              "      <th>0</th>\n",
              "      <td>France</td>\n",
              "      <td>44.0</td>\n",
              "      <td>72000.0</td>\n",
              "      <td>No</td>\n",
              "    </tr>\n",
              "    <tr>\n",
              "      <th>1</th>\n",
              "      <td>Spain</td>\n",
              "      <td>27.0</td>\n",
              "      <td>48000.0</td>\n",
              "      <td>Yes</td>\n",
              "    </tr>\n",
              "    <tr>\n",
              "      <th>2</th>\n",
              "      <td>Germany</td>\n",
              "      <td>30.0</td>\n",
              "      <td>54000.0</td>\n",
              "      <td>No</td>\n",
              "    </tr>\n",
              "    <tr>\n",
              "      <th>3</th>\n",
              "      <td>Spain</td>\n",
              "      <td>38.0</td>\n",
              "      <td>61000.0</td>\n",
              "      <td>No</td>\n",
              "    </tr>\n",
              "    <tr>\n",
              "      <th>4</th>\n",
              "      <td>Germany</td>\n",
              "      <td>40.0</td>\n",
              "      <td>NaN</td>\n",
              "      <td>Yes</td>\n",
              "    </tr>\n",
              "    <tr>\n",
              "      <th>5</th>\n",
              "      <td>France</td>\n",
              "      <td>35.0</td>\n",
              "      <td>58000.0</td>\n",
              "      <td>Yes</td>\n",
              "    </tr>\n",
              "    <tr>\n",
              "      <th>6</th>\n",
              "      <td>Spain</td>\n",
              "      <td>NaN</td>\n",
              "      <td>52000.0</td>\n",
              "      <td>No</td>\n",
              "    </tr>\n",
              "    <tr>\n",
              "      <th>7</th>\n",
              "      <td>France</td>\n",
              "      <td>48.0</td>\n",
              "      <td>79000.0</td>\n",
              "      <td>Yes</td>\n",
              "    </tr>\n",
              "    <tr>\n",
              "      <th>8</th>\n",
              "      <td>Germany</td>\n",
              "      <td>50.0</td>\n",
              "      <td>83000.0</td>\n",
              "      <td>No</td>\n",
              "    </tr>\n",
              "    <tr>\n",
              "      <th>9</th>\n",
              "      <td>France</td>\n",
              "      <td>37.0</td>\n",
              "      <td>67000.0</td>\n",
              "      <td>Yes</td>\n",
              "    </tr>\n",
              "  </tbody>\n",
              "</table>\n",
              "</div>"
            ],
            "text/plain": [
              "   Country   Age   Salary Purchased\n",
              "0   France  44.0  72000.0        No\n",
              "1    Spain  27.0  48000.0       Yes\n",
              "2  Germany  30.0  54000.0        No\n",
              "3    Spain  38.0  61000.0        No\n",
              "4  Germany  40.0      NaN       Yes\n",
              "5   France  35.0  58000.0       Yes\n",
              "6    Spain   NaN  52000.0        No\n",
              "7   France  48.0  79000.0       Yes\n",
              "8  Germany  50.0  83000.0        No\n",
              "9   France  37.0  67000.0       Yes"
            ]
          },
          "metadata": {
            "tags": []
          },
          "execution_count": 4
        }
      ]
    },
    {
      "cell_type": "markdown",
      "metadata": {
        "id": "G69rGI05-z-9",
        "colab_type": "text"
      },
      "source": [
        "Now we do a general check to see if there are any missing values and then \n",
        "count their number"
      ]
    },
    {
      "cell_type": "code",
      "metadata": {
        "id": "Tqf9V_cX-z--",
        "colab_type": "code",
        "colab": {
          "base_uri": "https://localhost:8080/",
          "height": 105
        },
        "outputId": "03a59728-b605-4744-9323-1581a8a327ec"
      },
      "source": [
        "dataset.isnull().any()"
      ],
      "execution_count": 5,
      "outputs": [
        {
          "output_type": "execute_result",
          "data": {
            "text/plain": [
              "Country      False\n",
              "Age           True\n",
              "Salary        True\n",
              "Purchased    False\n",
              "dtype: bool"
            ]
          },
          "metadata": {
            "tags": []
          },
          "execution_count": 5
        }
      ]
    },
    {
      "cell_type": "code",
      "metadata": {
        "id": "ffUMlA-I-z_C",
        "colab_type": "code",
        "colab": {
          "base_uri": "https://localhost:8080/",
          "height": 105
        },
        "outputId": "573152c1-8b2a-43f4-9349-650b62b021ac"
      },
      "source": [
        "#Now this will count the number of missing values in each column\n",
        "dataset.isnull().sum()"
      ],
      "execution_count": 6,
      "outputs": [
        {
          "output_type": "execute_result",
          "data": {
            "text/plain": [
              "Country      0\n",
              "Age          1\n",
              "Salary       1\n",
              "Purchased    0\n",
              "dtype: int64"
            ]
          },
          "metadata": {
            "tags": []
          },
          "execution_count": 6
        }
      ]
    },
    {
      "cell_type": "markdown",
      "metadata": {
        "collapsed": true,
        "id": "p17G8_AB-z_G",
        "colab_type": "text"
      },
      "source": [
        "# Handling Missing Data"
      ]
    },
    {
      "cell_type": "markdown",
      "metadata": {
        "id": "cACnHabd-z_I",
        "colab_type": "raw"
      },
      "source": [
        "Here we have various options:\n",
        "1.Ignore the data row\n",
        "2.Use a global constant for the missing values (e.g. NaN, minus infinity)\n",
        "3.Use attribute median\n",
        "4.Use attribute mode\n",
        "5.Use attribute mean\n",
        "We shall use the imputer class for handling the missing data."
      ]
    },
    {
      "cell_type": "code",
      "metadata": {
        "id": "xaFZgies-z_K",
        "colab_type": "code",
        "colab": {}
      },
      "source": [
        "from sklearn.impute import SimpleImputer"
      ],
      "execution_count": 0,
      "outputs": []
    },
    {
      "cell_type": "markdown",
      "metadata": {
        "id": "W9CNIL1O-z_N",
        "colab_type": "raw"
      },
      "source": [
        "We create the imputer object with the following arguments\n",
        "1. missing_values = 'NaN' (this is how missing values are stored)\n",
        "2. strategy = 'mean' (here we use the mean of the attributes to infer the missing data; other possibilities are most_frequent etc) \n",
        "3. axis = 0 (means that the mean is calculated per column; if it was 1 mean would be caluculated per row)"
      ]
    },
    {
      "cell_type": "code",
      "metadata": {
        "id": "BIhsWdYT-z_O",
        "colab_type": "code",
        "colab": {}
      },
      "source": [
        "imputer = SimpleImputer(missing_values = np.nan, strategy = 'mean')"
      ],
      "execution_count": 0,
      "outputs": []
    },
    {
      "cell_type": "markdown",
      "metadata": {
        "id": "dTU6R-Go-z_S",
        "colab_type": "raw"
      },
      "source": [
        "Now we use the fit function to replace the NaN values in the respective cloumns. Here Age and Salary columns are changed."
      ]
    },
    {
      "cell_type": "code",
      "metadata": {
        "id": "kx-zpDQr-z_T",
        "colab_type": "code",
        "colab": {}
      },
      "source": [
        "imputer = imputer.fit(dataset[['Age','Salary']])"
      ],
      "execution_count": 0,
      "outputs": []
    },
    {
      "cell_type": "code",
      "metadata": {
        "id": "fnYDzhQe-z_W",
        "colab_type": "code",
        "colab": {}
      },
      "source": [
        "dataset[['Age','Salary']] = imputer.transform(dataset[['Age','Salary']])"
      ],
      "execution_count": 0,
      "outputs": []
    },
    {
      "cell_type": "code",
      "metadata": {
        "scrolled": true,
        "id": "rO35SZW0-z_b",
        "colab_type": "code",
        "colab": {
          "base_uri": "https://localhost:8080/",
          "height": 105
        },
        "outputId": "9d2c8595-0d25-411d-b3bf-0e6b45acadb7"
      },
      "source": [
        "#Now we check the dataset for the missing values.\n",
        "dataset.isnull().any()"
      ],
      "execution_count": 11,
      "outputs": [
        {
          "output_type": "execute_result",
          "data": {
            "text/plain": [
              "Country      False\n",
              "Age          False\n",
              "Salary       False\n",
              "Purchased    False\n",
              "dtype: bool"
            ]
          },
          "metadata": {
            "tags": []
          },
          "execution_count": 11
        }
      ]
    },
    {
      "cell_type": "code",
      "metadata": {
        "id": "lIBj0Ix5-z_e",
        "colab_type": "code",
        "colab": {
          "base_uri": "https://localhost:8080/",
          "height": 358
        },
        "outputId": "ec94db6a-733b-4799-a234-45038f66d22b"
      },
      "source": [
        "dataset"
      ],
      "execution_count": 12,
      "outputs": [
        {
          "output_type": "execute_result",
          "data": {
            "text/html": [
              "<div>\n",
              "<style scoped>\n",
              "    .dataframe tbody tr th:only-of-type {\n",
              "        vertical-align: middle;\n",
              "    }\n",
              "\n",
              "    .dataframe tbody tr th {\n",
              "        vertical-align: top;\n",
              "    }\n",
              "\n",
              "    .dataframe thead th {\n",
              "        text-align: right;\n",
              "    }\n",
              "</style>\n",
              "<table border=\"1\" class=\"dataframe\">\n",
              "  <thead>\n",
              "    <tr style=\"text-align: right;\">\n",
              "      <th></th>\n",
              "      <th>Country</th>\n",
              "      <th>Age</th>\n",
              "      <th>Salary</th>\n",
              "      <th>Purchased</th>\n",
              "    </tr>\n",
              "  </thead>\n",
              "  <tbody>\n",
              "    <tr>\n",
              "      <th>0</th>\n",
              "      <td>France</td>\n",
              "      <td>44.000000</td>\n",
              "      <td>72000.000000</td>\n",
              "      <td>No</td>\n",
              "    </tr>\n",
              "    <tr>\n",
              "      <th>1</th>\n",
              "      <td>Spain</td>\n",
              "      <td>27.000000</td>\n",
              "      <td>48000.000000</td>\n",
              "      <td>Yes</td>\n",
              "    </tr>\n",
              "    <tr>\n",
              "      <th>2</th>\n",
              "      <td>Germany</td>\n",
              "      <td>30.000000</td>\n",
              "      <td>54000.000000</td>\n",
              "      <td>No</td>\n",
              "    </tr>\n",
              "    <tr>\n",
              "      <th>3</th>\n",
              "      <td>Spain</td>\n",
              "      <td>38.000000</td>\n",
              "      <td>61000.000000</td>\n",
              "      <td>No</td>\n",
              "    </tr>\n",
              "    <tr>\n",
              "      <th>4</th>\n",
              "      <td>Germany</td>\n",
              "      <td>40.000000</td>\n",
              "      <td>63777.777778</td>\n",
              "      <td>Yes</td>\n",
              "    </tr>\n",
              "    <tr>\n",
              "      <th>5</th>\n",
              "      <td>France</td>\n",
              "      <td>35.000000</td>\n",
              "      <td>58000.000000</td>\n",
              "      <td>Yes</td>\n",
              "    </tr>\n",
              "    <tr>\n",
              "      <th>6</th>\n",
              "      <td>Spain</td>\n",
              "      <td>38.777778</td>\n",
              "      <td>52000.000000</td>\n",
              "      <td>No</td>\n",
              "    </tr>\n",
              "    <tr>\n",
              "      <th>7</th>\n",
              "      <td>France</td>\n",
              "      <td>48.000000</td>\n",
              "      <td>79000.000000</td>\n",
              "      <td>Yes</td>\n",
              "    </tr>\n",
              "    <tr>\n",
              "      <th>8</th>\n",
              "      <td>Germany</td>\n",
              "      <td>50.000000</td>\n",
              "      <td>83000.000000</td>\n",
              "      <td>No</td>\n",
              "    </tr>\n",
              "    <tr>\n",
              "      <th>9</th>\n",
              "      <td>France</td>\n",
              "      <td>37.000000</td>\n",
              "      <td>67000.000000</td>\n",
              "      <td>Yes</td>\n",
              "    </tr>\n",
              "  </tbody>\n",
              "</table>\n",
              "</div>"
            ],
            "text/plain": [
              "   Country        Age        Salary Purchased\n",
              "0   France  44.000000  72000.000000        No\n",
              "1    Spain  27.000000  48000.000000       Yes\n",
              "2  Germany  30.000000  54000.000000        No\n",
              "3    Spain  38.000000  61000.000000        No\n",
              "4  Germany  40.000000  63777.777778       Yes\n",
              "5   France  35.000000  58000.000000       Yes\n",
              "6    Spain  38.777778  52000.000000        No\n",
              "7   France  48.000000  79000.000000       Yes\n",
              "8  Germany  50.000000  83000.000000        No\n",
              "9   France  37.000000  67000.000000       Yes"
            ]
          },
          "metadata": {
            "tags": []
          },
          "execution_count": 12
        }
      ]
    },
    {
      "cell_type": "markdown",
      "metadata": {
        "id": "SSS2JKz_-z_i",
        "colab_type": "text"
      },
      "source": [
        "# Separating the independent and dependent (i.e. target) features"
      ]
    },
    {
      "cell_type": "code",
      "metadata": {
        "id": "LNWPdsZV-z_k",
        "colab_type": "code",
        "colab": {
          "base_uri": "https://localhost:8080/",
          "height": 193
        },
        "outputId": "d1ed5945-ccaf-407b-b710-9c9d790e4da0"
      },
      "source": [
        "#Independent Features\n",
        "X = dataset.iloc[:,0:3].values\n",
        "X"
      ],
      "execution_count": 13,
      "outputs": [
        {
          "output_type": "execute_result",
          "data": {
            "text/plain": [
              "array([['France', 44.0, 72000.0],\n",
              "       ['Spain', 27.0, 48000.0],\n",
              "       ['Germany', 30.0, 54000.0],\n",
              "       ['Spain', 38.0, 61000.0],\n",
              "       ['Germany', 40.0, 63777.77777777778],\n",
              "       ['France', 35.0, 58000.0],\n",
              "       ['Spain', 38.77777777777778, 52000.0],\n",
              "       ['France', 48.0, 79000.0],\n",
              "       ['Germany', 50.0, 83000.0],\n",
              "       ['France', 37.0, 67000.0]], dtype=object)"
            ]
          },
          "metadata": {
            "tags": []
          },
          "execution_count": 13
        }
      ]
    },
    {
      "cell_type": "code",
      "metadata": {
        "id": "1ayEE5UF-z_q",
        "colab_type": "code",
        "colab": {
          "base_uri": "https://localhost:8080/",
          "height": 193
        },
        "outputId": "d8a21ecd-e4e1-4168-8f7e-1bc8cb462c01"
      },
      "source": [
        "# target\n",
        "Y = dataset.iloc[:,[3]].values\n",
        "Y"
      ],
      "execution_count": 14,
      "outputs": [
        {
          "output_type": "execute_result",
          "data": {
            "text/plain": [
              "array([['No'],\n",
              "       ['Yes'],\n",
              "       ['No'],\n",
              "       ['No'],\n",
              "       ['Yes'],\n",
              "       ['Yes'],\n",
              "       ['No'],\n",
              "       ['Yes'],\n",
              "       ['No'],\n",
              "       ['Yes']], dtype=object)"
            ]
          },
          "metadata": {
            "tags": []
          },
          "execution_count": 14
        }
      ]
    },
    {
      "cell_type": "markdown",
      "metadata": {
        "id": "5-vGQBZt-z_u",
        "colab_type": "text"
      },
      "source": [
        "# Categorical Encoding"
      ]
    },
    {
      "cell_type": "markdown",
      "metadata": {
        "id": "2qPhgZQi-z_w",
        "colab_type": "raw"
      },
      "source": [
        "Categorical Data\n",
        "1.Non-numeric data\n",
        "2.It represents types of data which may be divided into groups\n",
        "\n",
        "The different types of categorical data are:\n",
        "1.Nominal : These have no order among them. e.g. gender\n",
        "2.Ordinal : These have some order associated with them. e.g. rating[1,2,3,4,5]"
      ]
    },
    {
      "cell_type": "code",
      "metadata": {
        "id": "IoLTj3pt-z_x",
        "colab_type": "code",
        "colab": {}
      },
      "source": [
        "from sklearn.preprocessing import LabelEncoder"
      ],
      "execution_count": 0,
      "outputs": []
    },
    {
      "cell_type": "code",
      "metadata": {
        "id": "3aw2Luk6-z_1",
        "colab_type": "code",
        "colab": {
          "base_uri": "https://localhost:8080/",
          "height": 52
        },
        "outputId": "9a3216e4-edf0-41dc-f553-60038b3d8d4b"
      },
      "source": [
        "#The 0th column of X has non-ordinal or nominal data\n",
        "X[:,0]"
      ],
      "execution_count": 16,
      "outputs": [
        {
          "output_type": "execute_result",
          "data": {
            "text/plain": [
              "array(['France', 'Spain', 'Germany', 'Spain', 'Germany', 'France',\n",
              "       'Spain', 'France', 'Germany', 'France'], dtype=object)"
            ]
          },
          "metadata": {
            "tags": []
          },
          "execution_count": 16
        }
      ]
    },
    {
      "cell_type": "code",
      "metadata": {
        "id": "HleihcKy-z_4",
        "colab_type": "code",
        "colab": {
          "base_uri": "https://localhost:8080/",
          "height": 34
        },
        "outputId": "69655bbf-8d79-480e-b293-89f60401bcce"
      },
      "source": [
        "#first label encode 0th column in X\n",
        "labelencoder_X = LabelEncoder()\n",
        "X[:,0] = labelencoder_X.fit_transform(X[:,0])\n",
        "X[:,0]"
      ],
      "execution_count": 17,
      "outputs": [
        {
          "output_type": "execute_result",
          "data": {
            "text/plain": [
              "array([0, 2, 1, 2, 1, 0, 2, 0, 1, 0], dtype=object)"
            ]
          },
          "metadata": {
            "tags": []
          },
          "execution_count": 17
        }
      ]
    },
    {
      "cell_type": "code",
      "metadata": {
        "id": "iIBwwxsf-z_8",
        "colab_type": "code",
        "colab": {
          "base_uri": "https://localhost:8080/",
          "height": 193
        },
        "outputId": "34a52671-cfc4-4d4f-8faf-0529df9230ab"
      },
      "source": [
        "X"
      ],
      "execution_count": 18,
      "outputs": [
        {
          "output_type": "execute_result",
          "data": {
            "text/plain": [
              "array([[0, 44.0, 72000.0],\n",
              "       [2, 27.0, 48000.0],\n",
              "       [1, 30.0, 54000.0],\n",
              "       [2, 38.0, 61000.0],\n",
              "       [1, 40.0, 63777.77777777778],\n",
              "       [0, 35.0, 58000.0],\n",
              "       [2, 38.77777777777778, 52000.0],\n",
              "       [0, 48.0, 79000.0],\n",
              "       [1, 50.0, 83000.0],\n",
              "       [0, 37.0, 67000.0]], dtype=object)"
            ]
          },
          "metadata": {
            "tags": []
          },
          "execution_count": 18
        }
      ]
    },
    {
      "cell_type": "code",
      "metadata": {
        "id": "JGKwYKwd-0AD",
        "colab_type": "code",
        "colab": {}
      },
      "source": [
        "from sklearn.preprocessing import OneHotEncoder\n",
        "from sklearn.compose import ColumnTransformer"
      ],
      "execution_count": 0,
      "outputs": []
    },
    {
      "cell_type": "code",
      "metadata": {
        "id": "Kuurj2QK-0AG",
        "colab_type": "code",
        "colab": {
          "base_uri": "https://localhost:8080/",
          "height": 193
        },
        "outputId": "a9c33958-f902-4ff6-a790-e3534a29121d"
      },
      "source": [
        "# again read the data as per the input\n",
        "X = dataset.iloc[:,0:3].values\n",
        "X"
      ],
      "execution_count": 20,
      "outputs": [
        {
          "output_type": "execute_result",
          "data": {
            "text/plain": [
              "array([['France', 44.0, 72000.0],\n",
              "       ['Spain', 27.0, 48000.0],\n",
              "       ['Germany', 30.0, 54000.0],\n",
              "       ['Spain', 38.0, 61000.0],\n",
              "       ['Germany', 40.0, 63777.77777777778],\n",
              "       ['France', 35.0, 58000.0],\n",
              "       ['Spain', 38.77777777777778, 52000.0],\n",
              "       ['France', 48.0, 79000.0],\n",
              "       ['Germany', 50.0, 83000.0],\n",
              "       ['France', 37.0, 67000.0]], dtype=object)"
            ]
          },
          "metadata": {
            "tags": []
          },
          "execution_count": 20
        }
      ]
    },
    {
      "cell_type": "code",
      "metadata": {
        "id": "S1-dZla7-0AK",
        "colab_type": "code",
        "colab": {}
      },
      "source": [
        "#Now we one-hot encode 0th column of X\n",
        "onehotencoder = ColumnTransformer(\n",
        "    [('one_hot_encoder', OneHotEncoder(), [0])],    # The column numbers to be transformed (here is [0] but can be [0, 1, 3])\n",
        "    remainder='passthrough'                         # Leave the rest of the columns untouched\n",
        ")"
      ],
      "execution_count": 0,
      "outputs": []
    },
    {
      "cell_type": "code",
      "metadata": {
        "id": "QePcXH3E-0AO",
        "colab_type": "code",
        "colab": {
          "base_uri": "https://localhost:8080/",
          "height": 193
        },
        "outputId": "0f12407a-5c41-47a3-c88a-c004000c3b37"
      },
      "source": [
        "# transform the data to get the encoding done\n",
        "X = onehotencoder.fit_transform(X.tolist())\n",
        "X"
      ],
      "execution_count": 22,
      "outputs": [
        {
          "output_type": "execute_result",
          "data": {
            "text/plain": [
              "array([[1.0, 0.0, 0.0, 44.0, 72000.0],\n",
              "       [0.0, 0.0, 1.0, 27.0, 48000.0],\n",
              "       [0.0, 1.0, 0.0, 30.0, 54000.0],\n",
              "       [0.0, 0.0, 1.0, 38.0, 61000.0],\n",
              "       [0.0, 1.0, 0.0, 40.0, 63777.77777777778],\n",
              "       [1.0, 0.0, 0.0, 35.0, 58000.0],\n",
              "       [0.0, 0.0, 1.0, 38.77777777777778, 52000.0],\n",
              "       [1.0, 0.0, 0.0, 48.0, 79000.0],\n",
              "       [0.0, 1.0, 0.0, 50.0, 83000.0],\n",
              "       [1.0, 0.0, 0.0, 37.0, 67000.0]], dtype=object)"
            ]
          },
          "metadata": {
            "tags": []
          },
          "execution_count": 22
        }
      ]
    },
    {
      "cell_type": "code",
      "metadata": {
        "id": "-Ppxs53S-0AR",
        "colab_type": "code",
        "colab": {
          "base_uri": "https://localhost:8080/",
          "height": 34
        },
        "outputId": "c50325a8-fc20-4fa3-f9f4-001acdc88be1"
      },
      "source": [
        "# before doing cateforical encoding just analyse the data Y\n",
        "Y.shape"
      ],
      "execution_count": 23,
      "outputs": [
        {
          "output_type": "execute_result",
          "data": {
            "text/plain": [
              "(10, 1)"
            ]
          },
          "metadata": {
            "tags": []
          },
          "execution_count": 23
        }
      ]
    },
    {
      "cell_type": "code",
      "metadata": {
        "id": "ul5HctEu-0AU",
        "colab_type": "code",
        "colab": {
          "base_uri": "https://localhost:8080/",
          "height": 34
        },
        "outputId": "c9fb0b61-900b-4d23-fed2-4b726a69ebe6"
      },
      "source": [
        "# flatten the whole two dimentional list into an single dimentional list\n",
        "Y.ravel().shape"
      ],
      "execution_count": 24,
      "outputs": [
        {
          "output_type": "execute_result",
          "data": {
            "text/plain": [
              "(10,)"
            ]
          },
          "metadata": {
            "tags": []
          },
          "execution_count": 24
        }
      ]
    },
    {
      "cell_type": "code",
      "metadata": {
        "id": "tnzmtgYP-0AX",
        "colab_type": "code",
        "colab": {
          "base_uri": "https://localhost:8080/",
          "height": 34
        },
        "outputId": "8cfc9e02-74c1-490d-f384-dd077a12e353"
      },
      "source": [
        "# Now categorical encoding the target variable\n",
        "labelencoder_Y = LabelEncoder()\n",
        "Y = labelencoder_Y.fit_transform(Y.ravel())\n",
        "Y"
      ],
      "execution_count": 25,
      "outputs": [
        {
          "output_type": "execute_result",
          "data": {
            "text/plain": [
              "array([0, 1, 0, 0, 1, 1, 0, 1, 0, 1])"
            ]
          },
          "metadata": {
            "tags": []
          },
          "execution_count": 25
        }
      ]
    },
    {
      "cell_type": "markdown",
      "metadata": {
        "id": "TX73rOOK-0AZ",
        "colab_type": "text"
      },
      "source": [
        "# Splitting the data into test set and train set"
      ]
    },
    {
      "cell_type": "markdown",
      "metadata": {
        "id": "6jJzZIKL-0Aa",
        "colab_type": "raw"
      },
      "source": [
        "For this purpose we shall use the train_test_split function\n",
        "The arguments to this function are:\n",
        "1.X : The independent feature\n",
        "2.Y : The dependent or target feature\n",
        "3.test_size : this is the ratio with which the split takes place\n",
        "4.random state : if 0 selects the same random rows each time you run the program; else if any other number, selects random rows each time you run the program  "
      ]
    },
    {
      "cell_type": "code",
      "metadata": {
        "id": "1G9Rjtk9-0Ab",
        "colab_type": "code",
        "colab": {}
      },
      "source": [
        "from sklearn.model_selection import train_test_split"
      ],
      "execution_count": 0,
      "outputs": []
    },
    {
      "cell_type": "code",
      "metadata": {
        "id": "H7wi03Ka-0Af",
        "colab_type": "code",
        "colab": {}
      },
      "source": [
        "# split the dataset into testing and training data\n",
        "X_train, X_test, Y_train, Y_test = train_test_split(X, Y, test_size=0.2, random_state = 0)"
      ],
      "execution_count": 0,
      "outputs": []
    },
    {
      "cell_type": "code",
      "metadata": {
        "id": "886BXcNT-0Ai",
        "colab_type": "code",
        "colab": {
          "base_uri": "https://localhost:8080/",
          "height": 158
        },
        "outputId": "9daa4d93-2148-4efe-aa1d-ba65b2d4ae75"
      },
      "source": [
        "X_train"
      ],
      "execution_count": 28,
      "outputs": [
        {
          "output_type": "execute_result",
          "data": {
            "text/plain": [
              "array([[0.0, 1.0, 0.0, 40.0, 63777.77777777778],\n",
              "       [1.0, 0.0, 0.0, 37.0, 67000.0],\n",
              "       [0.0, 0.0, 1.0, 27.0, 48000.0],\n",
              "       [0.0, 0.0, 1.0, 38.77777777777778, 52000.0],\n",
              "       [1.0, 0.0, 0.0, 48.0, 79000.0],\n",
              "       [0.0, 0.0, 1.0, 38.0, 61000.0],\n",
              "       [1.0, 0.0, 0.0, 44.0, 72000.0],\n",
              "       [1.0, 0.0, 0.0, 35.0, 58000.0]], dtype=object)"
            ]
          },
          "metadata": {
            "tags": []
          },
          "execution_count": 28
        }
      ]
    },
    {
      "cell_type": "code",
      "metadata": {
        "id": "jFLaw_N2-0Am",
        "colab_type": "code",
        "colab": {
          "base_uri": "https://localhost:8080/",
          "height": 52
        },
        "outputId": "86192f4b-8475-4fd6-eb0f-8e51de311e5d"
      },
      "source": [
        "X_test"
      ],
      "execution_count": 29,
      "outputs": [
        {
          "output_type": "execute_result",
          "data": {
            "text/plain": [
              "array([[0.0, 1.0, 0.0, 30.0, 54000.0],\n",
              "       [0.0, 1.0, 0.0, 50.0, 83000.0]], dtype=object)"
            ]
          },
          "metadata": {
            "tags": []
          },
          "execution_count": 29
        }
      ]
    },
    {
      "cell_type": "code",
      "metadata": {
        "id": "khsoiutn-0Aq",
        "colab_type": "code",
        "colab": {
          "base_uri": "https://localhost:8080/",
          "height": 34
        },
        "outputId": "2830b5c5-609f-43c2-a903-1deb9f775edd"
      },
      "source": [
        "Y_train"
      ],
      "execution_count": 30,
      "outputs": [
        {
          "output_type": "execute_result",
          "data": {
            "text/plain": [
              "array([1, 1, 1, 0, 1, 0, 0, 1])"
            ]
          },
          "metadata": {
            "tags": []
          },
          "execution_count": 30
        }
      ]
    },
    {
      "cell_type": "code",
      "metadata": {
        "id": "pu2NGVpX-0At",
        "colab_type": "code",
        "colab": {
          "base_uri": "https://localhost:8080/",
          "height": 34
        },
        "outputId": "8235dc65-f4a3-479b-dc1b-de54a35a04ed"
      },
      "source": [
        "Y_test"
      ],
      "execution_count": 31,
      "outputs": [
        {
          "output_type": "execute_result",
          "data": {
            "text/plain": [
              "array([0, 0])"
            ]
          },
          "metadata": {
            "tags": []
          },
          "execution_count": 31
        }
      ]
    },
    {
      "cell_type": "code",
      "metadata": {
        "id": "aX7-cCBH-0Aw",
        "colab_type": "code",
        "colab": {
          "base_uri": "https://localhost:8080/",
          "height": 34
        },
        "outputId": "9fb1b0d6-c4dc-432e-9b62-1ffb9dad7df1"
      },
      "source": [
        "len(X_train), len(X_test), len(Y_train), len(Y_test)"
      ],
      "execution_count": 32,
      "outputs": [
        {
          "output_type": "execute_result",
          "data": {
            "text/plain": [
              "(8, 2, 8, 2)"
            ]
          },
          "metadata": {
            "tags": []
          },
          "execution_count": 32
        }
      ]
    },
    {
      "cell_type": "markdown",
      "metadata": {
        "id": "aamOiERK-0Az",
        "colab_type": "text"
      },
      "source": [
        "# Feature Scaling"
      ]
    },
    {
      "cell_type": "markdown",
      "metadata": {
        "id": "HeVKROcN-0Az",
        "colab_type": "raw"
      },
      "source": [
        "Feature scaling is a method used to standardize the range of independent variables or features of data."
      ]
    },
    {
      "cell_type": "markdown",
      "metadata": {
        "id": "snFTxGRC-0A0",
        "colab_type": "text"
      },
      "source": [
        "Standardize features by removing the mean and scaling to unit variance\n",
        "\n",
        "The standard score of a sample x is calculated as:\n",
        "\n",
        "z = (x - u) / s\n",
        "\n",
        "where u is the mean of the training samples and\n",
        "\n",
        "s is the standard deviation of the training samples"
      ]
    },
    {
      "cell_type": "code",
      "metadata": {
        "id": "c0WhkU4C-0A1",
        "colab_type": "code",
        "colab": {}
      },
      "source": [
        "from sklearn.preprocessing import StandardScaler"
      ],
      "execution_count": 0,
      "outputs": []
    },
    {
      "cell_type": "code",
      "metadata": {
        "id": "NU22a5OW-0A3",
        "colab_type": "code",
        "colab": {}
      },
      "source": [
        "# initializing the standard scaler\n",
        "sc_X = StandardScaler()"
      ],
      "execution_count": 0,
      "outputs": []
    },
    {
      "cell_type": "code",
      "metadata": {
        "id": "ipDW039c-0A5",
        "colab_type": "code",
        "colab": {
          "base_uri": "https://localhost:8080/",
          "height": 158
        },
        "outputId": "d07616af-eea3-4163-d531-fe9fde6f6e37"
      },
      "source": [
        "X_train = sc_X.fit_transform(X_train)\n",
        "X_train"
      ],
      "execution_count": 35,
      "outputs": [
        {
          "output_type": "execute_result",
          "data": {
            "text/plain": [
              "array([[-1.        ,  2.64575131, -0.77459667,  0.26306757,  0.12381479],\n",
              "       [ 1.        , -0.37796447, -0.77459667, -0.25350148,  0.46175632],\n",
              "       [-1.        , -0.37796447,  1.29099445, -1.97539832, -1.53093341],\n",
              "       [-1.        , -0.37796447,  1.29099445,  0.05261351, -1.11141978],\n",
              "       [ 1.        , -0.37796447, -0.77459667,  1.64058505,  1.7202972 ],\n",
              "       [-1.        , -0.37796447,  1.29099445, -0.0813118 , -0.16751412],\n",
              "       [ 1.        , -0.37796447, -0.77459667,  0.95182631,  0.98614835],\n",
              "       [ 1.        , -0.37796447, -0.77459667, -0.59788085, -0.48214934]])"
            ]
          },
          "metadata": {
            "tags": []
          },
          "execution_count": 35
        }
      ]
    },
    {
      "cell_type": "code",
      "metadata": {
        "id": "krOXjohi-0A7",
        "colab_type": "code",
        "colab": {
          "base_uri": "https://localhost:8080/",
          "height": 52
        },
        "outputId": "fa93b441-3467-4622-d0d1-dca6a068c127"
      },
      "source": [
        "X_test = sc_X.transform(X_test)\n",
        "X_test"
      ],
      "execution_count": 36,
      "outputs": [
        {
          "output_type": "execute_result",
          "data": {
            "text/plain": [
              "array([[-1.        ,  2.64575131, -0.77459667, -1.45882927, -0.90166297],\n",
              "       [-1.        ,  2.64575131, -0.77459667,  1.98496442,  2.13981082]])"
            ]
          },
          "metadata": {
            "tags": []
          },
          "execution_count": 36
        }
      ]
    },
    {
      "cell_type": "code",
      "metadata": {
        "id": "aSfPW_EP-0BA",
        "colab_type": "code",
        "colab": {
          "base_uri": "https://localhost:8080/",
          "height": 298
        },
        "outputId": "1d26d8fe-4509-40ea-8d74-e297a5cc9052"
      },
      "source": [
        "#Inverse of scaling to get the original data\n",
        "X_train = sc_X.inverse_transform(X_train)\n",
        "X_train"
      ],
      "execution_count": 37,
      "outputs": [
        {
          "output_type": "execute_result",
          "data": {
            "text/plain": [
              "array([[0.00000000e+00, 1.00000000e+00, 0.00000000e+00, 4.00000000e+01,\n",
              "        6.37777778e+04],\n",
              "       [1.00000000e+00, 0.00000000e+00, 0.00000000e+00, 3.70000000e+01,\n",
              "        6.70000000e+04],\n",
              "       [0.00000000e+00, 0.00000000e+00, 1.00000000e+00, 2.70000000e+01,\n",
              "        4.80000000e+04],\n",
              "       [0.00000000e+00, 0.00000000e+00, 1.00000000e+00, 3.87777778e+01,\n",
              "        5.20000000e+04],\n",
              "       [1.00000000e+00, 0.00000000e+00, 0.00000000e+00, 4.80000000e+01,\n",
              "        7.90000000e+04],\n",
              "       [0.00000000e+00, 0.00000000e+00, 1.00000000e+00, 3.80000000e+01,\n",
              "        6.10000000e+04],\n",
              "       [1.00000000e+00, 0.00000000e+00, 0.00000000e+00, 4.40000000e+01,\n",
              "        7.20000000e+04],\n",
              "       [1.00000000e+00, 0.00000000e+00, 0.00000000e+00, 3.50000000e+01,\n",
              "        5.80000000e+04]])"
            ]
          },
          "metadata": {
            "tags": []
          },
          "execution_count": 37
        }
      ]
    },
    {
      "cell_type": "markdown",
      "metadata": {
        "id": "YwPz1wpT-0BI",
        "colab_type": "text"
      },
      "source": [
        "# Thank You"
      ]
    }
  ]
}